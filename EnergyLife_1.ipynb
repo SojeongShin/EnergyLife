{
  "nbformat": 4,
  "nbformat_minor": 0,
  "metadata": {
    "colab": {
      "provenance": []
    },
    "kernelspec": {
      "name": "python3",
      "display_name": "Python 3"
    }
  },
  "cells": [
    {
      "cell_type": "code",
      "metadata": {
        "id": "krsLgVBYZw_A"
      },
      "source": [
        "#@title Copyright 2019 Google LLC. { display-mode: \"form\" }\n",
        "# Licensed under the Apache License, Version 2.0 (the \"License\");\n",
        "# you may not use this file except in compliance with the License.\n",
        "# You may obtain a copy of the License at\n",
        "#\n",
        "# https://www.apache.org/licenses/LICENSE-2.0\n",
        "#\n",
        "# Unless required by applicable law or agreed to in writing, software\n",
        "# distributed under the License is distributed on an \"AS IS\" BASIS,\n",
        "# WITHOUT WARRANTIES OR CONDITIONS OF ANY KIND, either express or implied.\n",
        "# See the License for the specific language governing permissions and\n",
        "# limitations under the License."
      ],
      "execution_count": null,
      "outputs": []
    },
    {
      "cell_type": "markdown",
      "metadata": {
        "id": "aV1xZ1CPi3Nw"
      },
      "source": [
        "<table class=\"ee-notebook-buttons\" align=\"left\"><td>\n",
        "<a target=\"_blank\"  href=\"http://colab.research.google.com/github/google/earthengine-community/blob/master/guides/linked/ee-api-colab-setup.ipynb\">\n",
        "    <img src=\"https://www.tensorflow.org/images/colab_logo_32px.png\" /> Run in Google Colab</a>\n",
        "</td><td>\n",
        "<a target=\"_blank\"  href=\"https://github.com/google/earthengine-community/blob/master/guides/linked/ee-api-colab-setup.ipynb\"><img width=32px src=\"https://www.tensorflow.org/images/GitHub-Mark-32px.png\" /> View source on GitHub</a></td></table>"
      ]
    },
    {
      "cell_type": "markdown",
      "source": [
        "# 1. GEE 튜토리얼"
      ],
      "metadata": {
        "id": "kHyJGdGVLS2y"
      }
    },
    {
      "cell_type": "markdown",
      "metadata": {
        "id": "LAZiVi13zTE7"
      },
      "source": [
        "# Earth Engine Python API Colab Setup\n",
        "\n",
        "This notebook demonstrates how to setup the Earth Engine Python API in Colab and provides several examples of how to print and visualize Earth Engine processed data."
      ]
    },
    {
      "cell_type": "markdown",
      "metadata": {
        "id": "a69CuP5Q6OI7"
      },
      "source": [
        "## Import API and get credentials\n",
        "\n",
        "The Earth Engine API is installed by default in Google Colaboratory so requires only importing and authenticating. These steps must be completed for each new Colab session, if you restart your Colab kernel, or if your Colab virtual machine is recycled due to inactivity."
      ]
    },
    {
      "cell_type": "markdown",
      "metadata": {
        "id": "SNh-QBc36Mvk"
      },
      "source": [
        "### Import the API\n",
        "\n",
        "Run the following cell to import the API into your session."
      ]
    },
    {
      "cell_type": "code",
      "metadata": {
        "id": "65RChERMzQHZ"
      },
      "source": [
        "import ee"
      ],
      "execution_count": null,
      "outputs": []
    },
    {
      "cell_type": "markdown",
      "metadata": {
        "id": "s-dN42MTzg-w"
      },
      "source": [
        "### Authenticate and initialize\n",
        "\n",
        "Run the `ee.Authenticate` function to authenticate your access to Earth Engine servers and `ee.Initialize` to initialize it. Upon running the following cell you'll be asked to grant Earth Engine access to your Google account. Follow the instructions printed to the cell."
      ]
    },
    {
      "cell_type": "code",
      "metadata": {
        "id": "NMp9Ei9b0XXL"
      },
      "source": [
        "# Trigger the authentication flow.\n",
        "ee.Authenticate()\n",
        "\n",
        "# Initialize the library.\n",
        "ee.Initialize(project='energylife-458603')"
      ],
      "execution_count": null,
      "outputs": []
    },
    {
      "cell_type": "markdown",
      "metadata": {
        "id": "8I_Fr0L5AFmu"
      },
      "source": [
        "## Test the API\n",
        "\n",
        "Test the API by printing the elevation of Mount Everest."
      ]
    },
    {
      "cell_type": "code",
      "metadata": {
        "id": "v7pD6pDOAhOW",
        "colab": {
          "base_uri": "https://localhost:8080/"
        },
        "outputId": "88446d4d-5ecd-4ad9-8067-4db22ad86169"
      },
      "source": [
        "# Print the elevation of Mount Everest.\n",
        "dem = ee.Image('USGS/SRTMGL1_003')\n",
        "xy = ee.Geometry.Point([86.9250, 27.9881])\n",
        "elev = dem.sample(xy, 30).first().get('elevation').getInfo()\n",
        "print('Mount Everest elevation (m):', elev)"
      ],
      "execution_count": null,
      "outputs": [
        {
          "output_type": "stream",
          "name": "stdout",
          "text": [
            "Mount Everest elevation (m): 8729\n"
          ]
        }
      ]
    },
    {
      "cell_type": "markdown",
      "metadata": {
        "id": "fDLAqiNWeD6t"
      },
      "source": [
        "## Map visualization\n",
        "\n",
        "`ee.Image` objects can be displayed to notebook output cells. The following two\n",
        "examples demonstrate displaying a static image and an interactive map.\n"
      ]
    },
    {
      "cell_type": "markdown",
      "metadata": {
        "id": "45BfeVygwmKm"
      },
      "source": [
        "### Static image\n",
        "\n",
        "The `IPython.display` module contains the `Image` function, which can display\n",
        "the results of a URL representing an image generated from a call to the Earth\n",
        "Engine `getThumbUrl` function. The following cell will display a thumbnail\n",
        "of the global elevation model."
      ]
    },
    {
      "cell_type": "code",
      "metadata": {
        "id": "Fp4rdpy0eGjx",
        "colab": {
          "base_uri": "https://localhost:8080/",
          "height": 278
        },
        "outputId": "623c140e-2fca-4448-89b7-51496e2cbe66"
      },
      "source": [
        "# Import the Image function from the IPython.display module.\n",
        "from IPython.display import Image\n",
        "\n",
        "# Display a thumbnail of global elevation.\n",
        "Image(url = dem.updateMask(dem.gt(0))\n",
        "  .getThumbURL({'min': 0, 'max': 4000, 'dimensions': 512,\n",
        "                'palette': ['006633', 'E5FFCC', '662A00', 'D8D8D8', 'F5F5F5']}))"
      ],
      "execution_count": null,
      "outputs": [
        {
          "output_type": "execute_result",
          "data": {
            "text/html": [
              "<img src=\"https://earthengine.googleapis.com/v1/projects/energylife-458603/thumbnails/df5c3239c03299d4153fb8cb9563623c-101eee4019299fa75b039ad6d77911c5:getPixels\"/>"
            ],
            "text/plain": [
              "<IPython.core.display.Image object>"
            ]
          },
          "metadata": {},
          "execution_count": 7
        }
      ]
    },
    {
      "cell_type": "markdown",
      "metadata": {
        "id": "Ljo5dbLkfmVm"
      },
      "source": [
        "### Interactive map\n",
        "\n",
        "The [geemap](https://github.com/gee-community/geemap)\n",
        "library can be used to display `ee.Image` objects on an interactive\n",
        "[ipyleaflet](https://github.com/jupyter-widgets/ipyleaflet) map.\n",
        "\n",
        "The following cell provides an example of using the `geemap.Map` object to\n",
        "display an elevation model."
      ]
    },
    {
      "cell_type": "code",
      "metadata": {
        "id": "VIiyf6azf4mU"
      },
      "source": [
        "# Import the geemap library.\n",
        "import geemap\n",
        "\n",
        "# Set visualization parameters.\n",
        "vis_params = {\n",
        "  'min': 0,\n",
        "  'max': 4000,\n",
        "  'palette': ['006633', 'E5FFCC', '662A00', 'D8D8D8', 'F5F5F5']}\n",
        "\n",
        "# Create a map object.\n",
        "m = geemap.Map(center=[20, 0], zoom=3)\n",
        "\n",
        "# Add the elevation model to the map object.\n",
        "m.add_ee_layer(dem.updateMask(dem.gt(0)), vis_params, 'DEM')\n",
        "\n",
        "# Display the map.\n",
        "display(m)"
      ],
      "execution_count": null,
      "outputs": []
    },
    {
      "cell_type": "markdown",
      "metadata": {
        "id": "CYfinjFhg0HN"
      },
      "source": [
        "## Chart visualization\n",
        "\n",
        "Some Earth Engine functions produce tabular data that can be plotted by\n",
        "data visualization packages such as `matplotlib`. The following example\n",
        "demonstrates the display of tabular data from Earth Engine as a scatter\n",
        "plot. See [Charting in Colaboratory](https://colab.sandbox.google.com/notebooks/charts.ipynb)\n",
        "for more information."
      ]
    },
    {
      "cell_type": "code",
      "metadata": {
        "id": "tRPULejJhBSl"
      },
      "source": [
        "# Import the matplotlib.pyplot module.\n",
        "import matplotlib.pyplot as plt\n",
        "\n",
        "# Fetch a Landsat TOA image.\n",
        "img = ee.Image('LANDSAT/LT05/C02/T1_TOA/LT05_034033_20000913')\n",
        "\n",
        "# Select Red and NIR bands and sample 500 points.\n",
        "samp_fc = img.select(['B3','B4']).sample(scale=30, numPixels=500)\n",
        "\n",
        "# Arrange the sample as a list of lists.\n",
        "samp_dict = samp_fc.reduceColumns(ee.Reducer.toList().repeat(2), ['B3', 'B4'])\n",
        "samp_list = ee.List(samp_dict.get('list'))\n",
        "\n",
        "# Save server-side ee.List as a client-side Python list.\n",
        "samp_data = samp_list.getInfo()\n",
        "\n",
        "# Display a scatter plot of Red-NIR sample pairs using matplotlib.\n",
        "plt.scatter(samp_data[0], samp_data[1], alpha=0.2)\n",
        "plt.xlabel('Red', fontsize=12)\n",
        "plt.ylabel('NIR', fontsize=12)\n",
        "plt.show()"
      ],
      "execution_count": null,
      "outputs": []
    },
    {
      "cell_type": "markdown",
      "source": [
        "# 2. 우주베키스탄 매립지 영역 인공위성 영상\n",
        "\n",
        "# energyLife-458603\n",
        "### 인공위성 영상 바로 띄우기"
      ],
      "metadata": {
        "id": "ucxmEGIxK4UW"
      }
    },
    {
      "cell_type": "code",
      "source": [
        "# 코랩에서 바로 띄우기\n",
        "# 필요한 라이브러리 설치\n",
        "# !pip install earthengine-api geemap --quiet\n",
        "\n",
        "# Earth Engine 인증 및 초기화\n",
        "import ee\n",
        "import geemap\n",
        "\n",
        "# 인증 → 처음 한 번만 필요\n",
        "ee.Authenticate()\n",
        "\n",
        "# 프로젝트 ID: GCP 콘솔에서 확인한 것 사용 (예: energylife-458603)\n",
        "ee.Initialize(project='energylife-458603')  # ← 여기에 정확한 ID 입력\n",
        "\n",
        "# 관심 지점과 분석 영역(AOI) 정의\n",
        "point = ee.Geometry.Point([67.959741, 40.098217])\n",
        "aoi = point.buffer(500).bounds()  # 500m 반지름 -> 가로 세로 1km\n",
        "\n",
        "# Sentinel-2에서 연도별 여름 영상 추출\n",
        "def get_s2_rgb(year):\n",
        "    start = ee.Date(f\"{year}-03-01\")\n",
        "    end = ee.Date(f\"{year}-05-30\")\n",
        "    image = (ee.ImageCollection(\"COPERNICUS/S2_SR_HARMONIZED\")\n",
        "             .filterBounds(aoi)\n",
        "             .filterDate(start, end)\n",
        "             .filter(ee.Filter.lt(\"CLOUDY_PIXEL_PERCENTAGE\", 10))\n",
        "             .median()\n",
        "             .clip(aoi))\n",
        "    return image.visualize(min=0, max=3000, bands=[\"B4\", \"B3\", \"B2\"])\n",
        "\n",
        "# 연도 목록\n",
        "years = [2019, 2020, 2021, 2022, 2023]\n",
        "\n",
        "# 지도로 시각화\n",
        "Map = geemap.Map(center=[40.098217, 67.959741], zoom=16)\n",
        "\n",
        "for year in years:\n",
        "    vis_img = get_s2_rgb(year)\n",
        "    Map.addLayer(vis_img, {}, f\"{year} Summer RGB\")\n",
        "\n",
        "# 기준점 및 범위 시각화\n",
        "Map.addLayer(point, {\"color\": \"red\"}, \"Target Point\")\n",
        "# Map.addLayer(aoi, {\"color\": \"blue\"}, \"AOI\")\n",
        "\n",
        "# 지도 출력\n",
        "Map"
      ],
      "metadata": {
        "id": "2Dda9qK2KVbA"
      },
      "execution_count": null,
      "outputs": []
    },
    {
      "cell_type": "markdown",
      "source": [
        "###인공위성 영상 저장 코드"
      ],
      "metadata": {
        "id": "bOoU_NdpL1hY"
      }
    },
    {
      "cell_type": "code",
      "source": [
        "# 필요한 라이브러리 설치 (Colab에서만 주석 제거해서 실행)\n",
        "# !pip install earthengine-api geemap --quiet\n",
        "\n",
        "# 🌍 Earth Engine 인증 및 초기화\n",
        "import ee\n",
        "import geemap\n",
        "\n",
        "ee.Authenticate()  # 최초 한 번만 필요\n",
        "ee.Initialize(project='energylife-458603')  # ← 본인의 GCP 프로젝트 ID로 변경\n",
        "\n",
        "# 관심 지점 및 영역 정의\n",
        "point = ee.Geometry.Point([40.098217, 67.959741])\n",
        "aoi = point.buffer(5000).bounds()\n",
        "\n",
        "# Sentinel-2 영상 가져오기 함수\n",
        "def get_s2_rgb(year):\n",
        "    start = ee.Date(f\"{year}-03-01\")\n",
        "    end = ee.Date(f\"{year}-05-30\")\n",
        "    image = (ee.ImageCollection(\"COPERNICUS/S2_SR_HARMONIZED\")\n",
        "             .filterBounds(aoi)\n",
        "             .filterDate(start, end)\n",
        "             .filter(ee.Filter.lt(\"CLOUDY_PIXEL_PERCENTAGE\", 10))\n",
        "             .median()\n",
        "             .clip(aoi))\n",
        "    # 시각화를 위한 RGB 변환 (B4=Red, B3=Green, B2=Blue)\n",
        "    return image.visualize(min=0, max=3000, bands=[\"B4\", \"B3\", \"B2\"])\n",
        "\n",
        "# 시각화 및 저장할 연도 리스트\n",
        "years = [2019, 2020, 2021, 2022, 2023]\n",
        "\n",
        "# 지도에서 확인용 시각화\n",
        "Map = geemap.Map(center=[40.098217, 67.959741], zoom=16)\n",
        "Map.addLayer(point, {\"color\": \"red\"}, \"Target Point\")\n",
        "\n",
        "for year in years:\n",
        "    vis_img = get_s2_rgb(year)\n",
        "    Map.addLayer(vis_img, {}, f\"{year} Summer RGB\")\n",
        "\n",
        "# 이미지 로컬 저장 (수정된 버전)\n",
        "for year in years:\n",
        "    ee_img = get_s2_rgb(year)\n",
        "    file_name = f'sentinel2_rgb_{year}.tif'\n",
        "    print(f\"Exporting {file_name} ...\")\n",
        "\n",
        "    geemap.ee_export_image(\n",
        "        ee_img,\n",
        "        filename=file_name,\n",
        "        scale=10,\n",
        "        region=aoi,\n",
        "        file_per_band=False\n",
        "    )\n",
        "\n",
        "    print(f\"✅ Saved: {file_name}\")\n",
        "\n",
        "# 지도 출력 (Notebook/Colab에서만 작동)\n",
        "Map"
      ],
      "metadata": {
        "id": "PV_G94myK-Fo",
        "collapsed": true
      },
      "execution_count": null,
      "outputs": []
    },
    {
      "cell_type": "code",
      "source": [
        "# 필수 라이브러리 설치\n",
        "!pip install earthengine-api geemap --quiet\n",
        "\n",
        "# Earth Engine 인증\n",
        "import ee\n",
        "import geemap\n",
        "ee.Authenticate()\n",
        "ee.Initialize(project='energylife-458603')  # ← 여기에 정확한 ID 입력\n"
      ],
      "metadata": {
        "colab": {
          "base_uri": "https://localhost:8080/",
          "height": 17
        },
        "id": "mFHZapUCLO5Y",
        "outputId": "f3630ec5-a8bc-43f3-dcd7-57c209ca678a"
      },
      "execution_count": null,
      "outputs": [
        {
          "output_type": "display_data",
          "data": {
            "text/plain": [
              "<IPython.core.display.HTML object>"
            ],
            "text/html": [
              "\n",
              "            <style>\n",
              "                .geemap-dark {\n",
              "                    --jp-widgets-color: white;\n",
              "                    --jp-widgets-label-color: white;\n",
              "                    --jp-ui-font-color1: white;\n",
              "                    --jp-layout-color2: #454545;\n",
              "                    background-color: #383838;\n",
              "                }\n",
              "\n",
              "                .geemap-dark .jupyter-button {\n",
              "                    --jp-layout-color3: #383838;\n",
              "                }\n",
              "\n",
              "                .geemap-colab {\n",
              "                    background-color: var(--colab-primary-surface-color, white);\n",
              "                }\n",
              "\n",
              "                .geemap-colab .jupyter-button {\n",
              "                    --jp-layout-color3: var(--colab-primary-surface-color, white);\n",
              "                }\n",
              "            </style>\n",
              "            "
            ]
          },
          "metadata": {}
        }
      ]
    },
    {
      "cell_type": "markdown",
      "source": [
        "### 고도 차이 시각화 코드"
      ],
      "metadata": {
        "id": "O23NKZq9PFzb"
      }
    },
    {
      "cell_type": "code",
      "source": [
        "import geemap\n",
        "\n",
        "# 관심 지점 설정\n",
        "point = ee.Geometry.Point([67.959741, 40.098217])\n",
        "aoi = point.buffer(5000).bounds()\n",
        "\n",
        "# ASTER GDEM: 평균 DEM (2000~2011)\n",
        "aster = ee.Image(\"NASA/ASTER_GED/AG100_003\").select(\"elevation\").clip(aoi)\n",
        "\n",
        "# ALOS AW3D30: 최근 DEM (2006~2011) - ImageCollection → mosaic 사용\n",
        "alos = ee.ImageCollection(\"JAXA/ALOS/AW3D30/V3_2\") \\\n",
        "    .filterBounds(aoi) \\\n",
        "    .select(\"DSM\") \\\n",
        "    .mosaic() \\\n",
        "    .clip(aoi)\n",
        "\n",
        "# 고도 차이 계산\n",
        "dem_diff = alos.subtract(aster).rename(\"DEM_Diff\")\n",
        "\n",
        "# 시각화 설정\n",
        "vis_params = {\n",
        "    'min': -10,\n",
        "    'max': 10,\n",
        "    'palette': ['blue', 'white', 'red']\n",
        "}\n",
        "\n",
        "# 지도 시각화\n",
        "Map = geemap.Map(center=[40.098217, 67.959741], zoom=13)\n",
        "Map.addLayer(dem_diff, vis_params, \"DEM Difference (ALOS - ASTER)\")\n",
        "Map.addLayer(point, {\"color\": \"yellow\"}, \"Target Point\")\n",
        "Map.addLayer(aoi, {\"color\": \"green\"}, \"AOI (5km)\")\n",
        "Map"
      ],
      "metadata": {
        "id": "igamv0485ioB"
      },
      "execution_count": null,
      "outputs": []
    },
    {
      "cell_type": "code",
      "source": [
        "# 🎯 매립지 위치 (Chiqindi poligoni)\n",
        "point = ee.Geometry.Point([68.7372, 40.4061])\n",
        "aoi = point.buffer(1500).bounds()\n",
        "\n",
        "# 🛰️ SRTM DEM\n",
        "srtm = ee.Image(\"USGS/SRTMGL1_003\").clip(aoi)\n",
        "\n",
        "# 📊 고도 min/max 값 추출\n",
        "elevation_stats = srtm.reduceRegion(\n",
        "    reducer=ee.Reducer.minMax(),\n",
        "    geometry=aoi,\n",
        "    scale=30,\n",
        "    maxPixels=1e8\n",
        ").getInfo()\n",
        "\n",
        "print(\"고도 통계값:\", elevation_stats)\n",
        "\n",
        "# 🎨 시각화용 범위 설정\n",
        "srtm_vis = {\n",
        "    \"min\": elevation_stats['elevation_min'],\n",
        "    \"max\": elevation_stats['elevation_max'],\n",
        "    \"palette\": [\"blue\", \"green\", \"brown\", \"white\"]\n",
        "}\n",
        "\n",
        "# 🗺️ 지도 생성\n",
        "Map = geemap.Map(center=[40.4061, 68.7372], zoom=15)\n",
        "Map.addLayer(srtm, srtm_vis, \"SRTM DEM (Auto-Scaled)\")\n",
        "Map.addLayer(point, {\"color\": \"red\"}, \"Target Point\")\n",
        "Map\n"
      ],
      "metadata": {
        "id": "JdP4EPlBpnQl"
      },
      "execution_count": null,
      "outputs": []
    },
    {
      "cell_type": "markdown",
      "source": [
        "### 메탄 농도 관측 코드"
      ],
      "metadata": {
        "id": "mzLrP8jfPWaT"
      }
    },
    {
      "cell_type": "code",
      "source": [
        "import ee, geemap\n",
        "from datetime import datetime\n",
        "\n",
        "# 인증 및 초기화\n",
        "ee.Authenticate()\n",
        "ee.Initialize(project='energylife-458603')\n",
        "\n",
        "# 관심 지점 및 영역 설정\n",
        "point = ee.Geometry.Point([40.098217, 67.959741])\n",
        "aoi = point.buffer(7000).bounds()  # Sentinel-5P 해상도(약 7km)에 맞춰 AOI 설정\n",
        "\n",
        "# 날짜 설정\n",
        "start_date = '2020-06-01'\n",
        "end_date = '2020-06-30'\n",
        "\n",
        "# Sentinel-5P 메탄 이미지 수집\n",
        "collection = (\n",
        "    ee.ImageCollection(\"COPERNICUS/S5P/OFFL/L3_CH4\")\n",
        "    .select(\"CH4_column_volume_mixing_ratio_dry_air\")\n",
        "    .filterBounds(aoi)\n",
        "    .filterDate(start_date, end_date)\n",
        ")\n",
        "\n",
        "# 이미지 개수 확인\n",
        "img_count = collection.size().getInfo()\n",
        "print(f\"해당 기간 내 이미지 개수: {img_count}\")\n",
        "\n",
        "# 실제 날짜 확인\n",
        "dates = collection.aggregate_array('system:time_start').getInfo()\n",
        "readable_dates = [datetime.utcfromtimestamp(t/1000).strftime('%Y-%m-%d') for t in dates]\n",
        "print(\"관측된 날짜들:\", readable_dates)\n",
        "\n",
        "# 이미지가 있는 경우만 진행\n",
        "if img_count > 0:\n",
        "    # 평균 이미지 계산 (마스크 유지)\n",
        "    mean_image = collection.mean().clip(aoi)\n",
        "\n",
        "    # 평균 메탄 농도 계산\n",
        "    mean_value = mean_image.reduceRegion(\n",
        "        reducer=ee.Reducer.mean(),\n",
        "        geometry=aoi,\n",
        "        scale=7000,\n",
        "        maxPixels=1e8\n",
        "    ).get('CH4_column_volume_mixing_ratio_dry_air').getInfo()\n",
        "    print(\"관심 영역의 평균 메탄 농도 (mol/m²):\", mean_value)\n",
        "\n",
        "    # 자동 시각화 범위 계산\n",
        "    stats = mean_image.reduceRegion(\n",
        "        reducer=ee.Reducer.minMax(),\n",
        "        geometry=aoi,\n",
        "        scale=7000,\n",
        "        maxPixels=1e8\n",
        "    ).getInfo()\n",
        "    ch4_min = stats.get('CH4_column_volume_mixing_ratio_dry_air_min')\n",
        "    ch4_max = stats.get('CH4_column_volume_mixing_ratio_dry_air_max')\n",
        "\n",
        "    # 시각화 범위 보정 (값이 너무 낮으면 기본값 사용)\n",
        "    if ch4_min is None or ch4_min < 1000:\n",
        "        ch4_min = 1600\n",
        "    if ch4_max is None or ch4_max < ch4_min + 50:\n",
        "        ch4_max = 2000\n",
        "\n",
        "    print(\"자동 보정된 시각화 범위:\", ch4_min, \"~\", ch4_max)\n",
        "\n",
        "    # 시각화 설정\n",
        "    ch4_vis = {\n",
        "        'min': ch4_min,\n",
        "        'max': ch4_max,\n",
        "        'palette': ['blue', 'green', 'yellow', 'orange', 'red']\n",
        "    }\n",
        "\n",
        "    # 지도 시각화\n",
        "    Map = geemap.Map(center=[40.4061, 68.7372], zoom=10)\n",
        "    Map.addLayer(mean_image, ch4_vis, \"Mean Methane (CH4)\")\n",
        "    Map.addLayer(point, {\"color\": \"red\"}, \"Target Point\")\n",
        "    Map.addLayer(aoi, {\"color\": \"blue\"}, \"AOI 범위\")\n",
        "\n",
        "    # 유효 픽셀 마스크 시각화 (디버깅용)\n",
        "    mask_layer = mean_image.mask().reduce(ee.Reducer.min())\n",
        "    Map.addLayer(mask_layer, {'min': 0, 'max': 1}, 'Valid CH4 Pixel Mask')\n",
        "\n",
        "\n",
        "else:\n",
        "    print(\"지정한 날짜 범위 내에 사용 가능한 메탄 이미지가 없습니다.\")\n",
        "Map"
      ],
      "metadata": {
        "id": "DjM-j67HFk_A"
      },
      "execution_count": null,
      "outputs": []
    }
  ]
}